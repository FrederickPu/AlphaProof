{
 "cells": [
  {
   "cell_type": "markdown",
   "id": "829b7005",
   "metadata": {},
   "source": [
    "LeanDojo Demo\n",
    "=============\n",
    "\n",
    "This notebook demonstrates the main features of LeanDojo (using Lean 4). Please refer to the [documentation](https://leandojo.readthedocs.io/en/latest/) for more details."
   ]
  },
  {
   "cell_type": "code",
   "execution_count": 1,
   "id": "f3c23856",
   "metadata": {},
   "outputs": [
    {
     "name": "stderr",
     "output_type": "stream",
     "text": [
      "/home/neuman/.local/lib/python3.11/site-packages/tqdm/auto.py:21: TqdmWarning: IProgress not found. Please update jupyter and ipywidgets. See https://ipywidgets.readthedocs.io/en/stable/user_install.html\n",
      "  from .autonotebook import tqdm as notebook_tqdm\n",
      "2024-11-26 23:08:41,777\tINFO util.py:154 -- Missing packages: ['ipywidgets']. Run `pip install -U ipywidgets`, then restart the notebook server for rich notebook output.\n"
     ]
    }
   ],
   "source": [
    "from lean_dojo import *"
   ]
  },
  {
   "cell_type": "markdown",
   "id": "7d400df8",
   "metadata": {},
   "source": [
    "## Extract Data from Lean"
   ]
  },
  {
   "cell_type": "code",
   "execution_count": 3,
   "id": "ef2ab5b2",
   "metadata": {},
   "outputs": [
    {
     "data": {
      "text/plain": [
       "LeanGitRepo(url='https://github.com/leanprover-community/mathlib4', commit='29dcec074de168ac2bf835a77ef68bbe069194c5')"
      ]
     },
     "execution_count": 3,
     "metadata": {},
     "output_type": "execute_result"
    }
   ],
   "source": [
    "repo = LeanGitRepo(\n",
    "    \"https://github.com/leanprover-community/mathlib4\",\n",
    "    \"29dcec074de168ac2bf835a77ef68bbe069194c5\",\n",
    ")\n",
    "\n",
    "repo"
   ]
  },
  {
   "cell_type": "code",
   "execution_count": null,
   "id": "dd959495",
   "metadata": {},
   "outputs": [
    {
     "name": "stderr",
     "output_type": "stream",
     "text": [
      "gio: https://github.com/leanprover-community/mathlib4/tree/29dcec074de168ac2bf835a77ef68bbe069194c5: Operation not supported\n"
     ]
    }
   ],
   "source": [
    "# Expected behavior: this line should open another tab and take you to the website of the repo to be traced.\n",
    "repo.show()"
   ]
  },
  {
   "cell_type": "code",
   "execution_count": 8,
   "id": "4c2945c2",
   "metadata": {},
   "outputs": [
    {
     "data": {
      "text/plain": [
       "{'content': 'leanprover/lean4:v4.10.0-rc1\\n'}"
      ]
     },
     "execution_count": 8,
     "metadata": {},
     "output_type": "execute_result"
    }
   ],
   "source": [
    "repo.get_config(\"lean-toolchain\")"
   ]
  },
  {
   "cell_type": "code",
   "execution_count": 6,
   "id": "1a9c39cc",
   "metadata": {},
   "outputs": [
    {
     "name": "stderr",
     "output_type": "stream",
     "text": [
      "\u001b[32m2024-11-26 17:53:11.222\u001b[0m | \u001b[1mINFO    \u001b[0m | \u001b[36mlean_dojo.data_extraction.trace\u001b[0m:\u001b[36mtrace\u001b[0m:\u001b[36m248\u001b[0m - \u001b[1mLoading the traced repo from /home/neuman/.cache/lean_dojo/leanprover-community-mathlib4-29dcec074de168ac2bf835a77ef68bbe069194c5/mathlib4\u001b[0m\n",
      "2024-11-26 17:53:17,229\tINFO worker.py:1810 -- Started a local Ray instance. View the dashboard at \u001b[1m\u001b[32mhttp://127.0.0.1:8265 \u001b[39m\u001b[22m\n"
     ]
    },
    {
     "ename": "KeyboardInterrupt",
     "evalue": "",
     "output_type": "error",
     "traceback": [
      "\u001b[0;31m---------------------------------------------------------------------------\u001b[0m",
      "\u001b[0;31mKeyboardInterrupt\u001b[0m                         Traceback (most recent call last)",
      "Cell \u001b[0;32mIn[6], line 2\u001b[0m\n\u001b[1;32m      1\u001b[0m \u001b[38;5;66;03m# A few minutes if the traced repo is in the cache; many hours otherwise.\u001b[39;00m\n\u001b[0;32m----> 2\u001b[0m traced_repo \u001b[38;5;241m=\u001b[39m \u001b[43mtrace\u001b[49m\u001b[43m(\u001b[49m\u001b[43mrepo\u001b[49m\u001b[43m)\u001b[49m\n",
      "File \u001b[0;32m~/.local/lib/python3.11/site-packages/lean_dojo/data_extraction/trace.py:249\u001b[0m, in \u001b[0;36mtrace\u001b[0;34m(repo, dst_dir, build_deps)\u001b[0m\n\u001b[1;32m    247\u001b[0m cached_path \u001b[38;5;241m=\u001b[39m get_traced_repo_path(repo, build_deps)\n\u001b[1;32m    248\u001b[0m logger\u001b[38;5;241m.\u001b[39minfo(\u001b[38;5;124mf\u001b[39m\u001b[38;5;124m\"\u001b[39m\u001b[38;5;124mLoading the traced repo from \u001b[39m\u001b[38;5;132;01m{\u001b[39;00mcached_path\u001b[38;5;132;01m}\u001b[39;00m\u001b[38;5;124m\"\u001b[39m)\n\u001b[0;32m--> 249\u001b[0m traced_repo \u001b[38;5;241m=\u001b[39m \u001b[43mTracedRepo\u001b[49m\u001b[38;5;241;43m.\u001b[39;49m\u001b[43mload_from_disk\u001b[49m\u001b[43m(\u001b[49m\u001b[43mcached_path\u001b[49m\u001b[43m,\u001b[49m\u001b[43m \u001b[49m\u001b[43mbuild_deps\u001b[49m\u001b[43m)\u001b[49m\n\u001b[1;32m    250\u001b[0m traced_repo\u001b[38;5;241m.\u001b[39mcheck_sanity()\n\u001b[1;32m    252\u001b[0m \u001b[38;5;28;01mif\u001b[39;00m dst_dir \u001b[38;5;129;01mis\u001b[39;00m \u001b[38;5;129;01mnot\u001b[39;00m \u001b[38;5;28;01mNone\u001b[39;00m:\n",
      "File \u001b[0;32m~/.local/lib/python3.11/site-packages/lean_dojo/data_extraction/traced_data.py:1205\u001b[0m, in \u001b[0;36mTracedRepo.load_from_disk\u001b[0;34m(cls, root_dir, build_deps)\u001b[0m\n\u001b[1;32m   1201\u001b[0m     traced_files \u001b[38;5;241m=\u001b[39m [\n\u001b[1;32m   1202\u001b[0m         TracedFile\u001b[38;5;241m.\u001b[39mfrom_xml(root_dir, path, repo) \u001b[38;5;28;01mfor\u001b[39;00m path \u001b[38;5;129;01min\u001b[39;00m tqdm(xml_paths)\n\u001b[1;32m   1203\u001b[0m     ]\n\u001b[1;32m   1204\u001b[0m \u001b[38;5;28;01melse\u001b[39;00m:\n\u001b[0;32m-> 1205\u001b[0m \u001b[43m    \u001b[49m\u001b[38;5;28;43;01mwith\u001b[39;49;00m\u001b[43m \u001b[49m\u001b[43mray_actor_pool\u001b[49m\u001b[43m(\u001b[49m\u001b[43m_TracedRepoHelper\u001b[49m\u001b[43m,\u001b[49m\u001b[43m \u001b[49m\u001b[43mroot_dir\u001b[49m\u001b[43m,\u001b[49m\u001b[43m \u001b[49m\u001b[43mrepo\u001b[49m\u001b[43m)\u001b[49m\u001b[43m \u001b[49m\u001b[38;5;28;43;01mas\u001b[39;49;00m\u001b[43m \u001b[49m\u001b[43mpool\u001b[49m\u001b[43m:\u001b[49m\n\u001b[1;32m   1206\u001b[0m \u001b[43m        \u001b[49m\u001b[43mtraced_files\u001b[49m\u001b[43m \u001b[49m\u001b[38;5;241;43m=\u001b[39;49m\u001b[43m \u001b[49m\u001b[38;5;28;43mlist\u001b[39;49m\u001b[43m(\u001b[49m\n\u001b[1;32m   1207\u001b[0m \u001b[43m            \u001b[49m\u001b[43mtqdm\u001b[49m\u001b[43m(\u001b[49m\n\u001b[1;32m   1208\u001b[0m \u001b[43m                \u001b[49m\u001b[43mpool\u001b[49m\u001b[38;5;241;43m.\u001b[39;49m\u001b[43mmap_unordered\u001b[49m\u001b[43m(\u001b[49m\n\u001b[0;32m   (...)\u001b[0m\n\u001b[1;32m   1212\u001b[0m \u001b[43m            \u001b[49m\u001b[43m)\u001b[49m\n\u001b[1;32m   1213\u001b[0m \u001b[43m        \u001b[49m\u001b[43m)\u001b[49m\n\u001b[1;32m   1215\u001b[0m dependencies \u001b[38;5;241m=\u001b[39m repo\u001b[38;5;241m.\u001b[39mget_dependencies(root_dir)\n",
      "File \u001b[0;32m/usr/lib/python3.11/contextlib.py:137\u001b[0m, in \u001b[0;36m_GeneratorContextManager.__enter__\u001b[0;34m(self)\u001b[0m\n\u001b[1;32m    135\u001b[0m \u001b[38;5;28;01mdel\u001b[39;00m \u001b[38;5;28mself\u001b[39m\u001b[38;5;241m.\u001b[39margs, \u001b[38;5;28mself\u001b[39m\u001b[38;5;241m.\u001b[39mkwds, \u001b[38;5;28mself\u001b[39m\u001b[38;5;241m.\u001b[39mfunc\n\u001b[1;32m    136\u001b[0m \u001b[38;5;28;01mtry\u001b[39;00m:\n\u001b[0;32m--> 137\u001b[0m     \u001b[38;5;28;01mreturn\u001b[39;00m \u001b[38;5;28mnext\u001b[39m(\u001b[38;5;28mself\u001b[39m\u001b[38;5;241m.\u001b[39mgen)\n\u001b[1;32m    138\u001b[0m \u001b[38;5;28;01mexcept\u001b[39;00m \u001b[38;5;167;01mStopIteration\u001b[39;00m:\n\u001b[1;32m    139\u001b[0m     \u001b[38;5;28;01mraise\u001b[39;00m \u001b[38;5;167;01mRuntimeError\u001b[39;00m(\u001b[38;5;124m\"\u001b[39m\u001b[38;5;124mgenerator didn\u001b[39m\u001b[38;5;124m'\u001b[39m\u001b[38;5;124mt yield\u001b[39m\u001b[38;5;124m\"\u001b[39m) \u001b[38;5;28;01mfrom\u001b[39;00m \u001b[38;5;28;01mNone\u001b[39;00m\n",
      "File \u001b[0;32m~/.local/lib/python3.11/site-packages/lean_dojo/utils.py:73\u001b[0m, in \u001b[0;36mray_actor_pool\u001b[0;34m(actor_cls, *args, **kwargs)\u001b[0m\n\u001b[1;32m     62\u001b[0m \u001b[38;5;250m\u001b[39m\u001b[38;5;124;03m\"\"\"Create a pool of Ray Actors of class ``actor_cls``.\u001b[39;00m\n\u001b[1;32m     63\u001b[0m \n\u001b[1;32m     64\u001b[0m \u001b[38;5;124;03mArgs:\u001b[39;00m\n\u001b[0;32m   (...)\u001b[0m\n\u001b[1;32m     70\u001b[0m \u001b[38;5;124;03m    Generator[ActorPool, None, None]: A :class:`ray.util.actor_pool.ActorPool` object.\u001b[39;00m\n\u001b[1;32m     71\u001b[0m \u001b[38;5;124;03m\"\"\"\u001b[39;00m\n\u001b[1;32m     72\u001b[0m \u001b[38;5;28;01massert\u001b[39;00m \u001b[38;5;129;01mnot\u001b[39;00m ray\u001b[38;5;241m.\u001b[39mis_initialized()\n\u001b[0;32m---> 73\u001b[0m \u001b[43mray\u001b[49m\u001b[38;5;241;43m.\u001b[39;49m\u001b[43minit\u001b[49m\u001b[43m(\u001b[49m\u001b[43m)\u001b[49m\n\u001b[1;32m     74\u001b[0m pool \u001b[38;5;241m=\u001b[39m ActorPool([actor_cls\u001b[38;5;241m.\u001b[39mremote(\u001b[38;5;241m*\u001b[39margs, \u001b[38;5;241m*\u001b[39m\u001b[38;5;241m*\u001b[39mkwargs) \u001b[38;5;28;01mfor\u001b[39;00m _ \u001b[38;5;129;01min\u001b[39;00m \u001b[38;5;28mrange\u001b[39m(NUM_WORKERS)])  \u001b[38;5;66;03m# type: ignore\u001b[39;00m\n\u001b[1;32m     75\u001b[0m \u001b[38;5;28;01mtry\u001b[39;00m:\n",
      "File \u001b[0;32m~/.local/lib/python3.11/site-packages/ray/_private/client_mode_hook.py:103\u001b[0m, in \u001b[0;36mclient_mode_hook.<locals>.wrapper\u001b[0;34m(*args, **kwargs)\u001b[0m\n\u001b[1;32m    101\u001b[0m     \u001b[38;5;28;01mif\u001b[39;00m func\u001b[38;5;241m.\u001b[39m\u001b[38;5;18m__name__\u001b[39m \u001b[38;5;241m!=\u001b[39m \u001b[38;5;124m\"\u001b[39m\u001b[38;5;124minit\u001b[39m\u001b[38;5;124m\"\u001b[39m \u001b[38;5;129;01mor\u001b[39;00m is_client_mode_enabled_by_default:\n\u001b[1;32m    102\u001b[0m         \u001b[38;5;28;01mreturn\u001b[39;00m \u001b[38;5;28mgetattr\u001b[39m(ray, func\u001b[38;5;241m.\u001b[39m\u001b[38;5;18m__name__\u001b[39m)(\u001b[38;5;241m*\u001b[39margs, \u001b[38;5;241m*\u001b[39m\u001b[38;5;241m*\u001b[39mkwargs)\n\u001b[0;32m--> 103\u001b[0m \u001b[38;5;28;01mreturn\u001b[39;00m \u001b[43mfunc\u001b[49m\u001b[43m(\u001b[49m\u001b[38;5;241;43m*\u001b[39;49m\u001b[43margs\u001b[49m\u001b[43m,\u001b[49m\u001b[43m \u001b[49m\u001b[38;5;241;43m*\u001b[39;49m\u001b[38;5;241;43m*\u001b[39;49m\u001b[43mkwargs\u001b[49m\u001b[43m)\u001b[49m\n",
      "File \u001b[0;32m~/.local/lib/python3.11/site-packages/ray/_private/worker.py:1821\u001b[0m, in \u001b[0;36minit\u001b[0;34m(address, num_cpus, num_gpus, resources, labels, object_store_memory, local_mode, ignore_reinit_error, include_dashboard, dashboard_host, dashboard_port, job_config, configure_logging, logging_level, logging_format, logging_config, log_to_driver, namespace, runtime_env, storage, **kwargs)\u001b[0m\n\u001b[1;32m   1818\u001b[0m \u001b[38;5;28;01melse\u001b[39;00m:\n\u001b[1;32m   1819\u001b[0m     logger\u001b[38;5;241m.\u001b[39minfo(info_str)\n\u001b[0;32m-> 1821\u001b[0m \u001b[43mconnect\u001b[49m\u001b[43m(\u001b[49m\n\u001b[1;32m   1822\u001b[0m \u001b[43m    \u001b[49m\u001b[43m_global_node\u001b[49m\u001b[43m,\u001b[49m\n\u001b[1;32m   1823\u001b[0m \u001b[43m    \u001b[49m\u001b[43m_global_node\u001b[49m\u001b[38;5;241;43m.\u001b[39;49m\u001b[43msession_name\u001b[49m\u001b[43m,\u001b[49m\n\u001b[1;32m   1824\u001b[0m \u001b[43m    \u001b[49m\u001b[43mmode\u001b[49m\u001b[38;5;241;43m=\u001b[39;49m\u001b[43mdriver_mode\u001b[49m\u001b[43m,\u001b[49m\n\u001b[1;32m   1825\u001b[0m \u001b[43m    \u001b[49m\u001b[43mlog_to_driver\u001b[49m\u001b[38;5;241;43m=\u001b[39;49m\u001b[43mlog_to_driver\u001b[49m\u001b[43m,\u001b[49m\n\u001b[1;32m   1826\u001b[0m \u001b[43m    \u001b[49m\u001b[43mworker\u001b[49m\u001b[38;5;241;43m=\u001b[39;49m\u001b[43mglobal_worker\u001b[49m\u001b[43m,\u001b[49m\n\u001b[1;32m   1827\u001b[0m \u001b[43m    \u001b[49m\u001b[43mdriver_object_store_memory\u001b[49m\u001b[38;5;241;43m=\u001b[39;49m\u001b[43m_driver_object_store_memory\u001b[49m\u001b[43m,\u001b[49m\n\u001b[1;32m   1828\u001b[0m \u001b[43m    \u001b[49m\u001b[43mjob_id\u001b[49m\u001b[38;5;241;43m=\u001b[39;49m\u001b[38;5;28;43;01mNone\u001b[39;49;00m\u001b[43m,\u001b[49m\n\u001b[1;32m   1829\u001b[0m \u001b[43m    \u001b[49m\u001b[43mnamespace\u001b[49m\u001b[38;5;241;43m=\u001b[39;49m\u001b[43mnamespace\u001b[49m\u001b[43m,\u001b[49m\n\u001b[1;32m   1830\u001b[0m \u001b[43m    \u001b[49m\u001b[43mjob_config\u001b[49m\u001b[38;5;241;43m=\u001b[39;49m\u001b[43mjob_config\u001b[49m\u001b[43m,\u001b[49m\n\u001b[1;32m   1831\u001b[0m \u001b[43m    \u001b[49m\u001b[43mentrypoint\u001b[49m\u001b[38;5;241;43m=\u001b[39;49m\u001b[43mray\u001b[49m\u001b[38;5;241;43m.\u001b[39;49m\u001b[43m_private\u001b[49m\u001b[38;5;241;43m.\u001b[39;49m\u001b[43mutils\u001b[49m\u001b[38;5;241;43m.\u001b[39;49m\u001b[43mget_entrypoint_name\u001b[49m\u001b[43m(\u001b[49m\u001b[43m)\u001b[49m\u001b[43m,\u001b[49m\n\u001b[1;32m   1832\u001b[0m \u001b[43m\u001b[49m\u001b[43m)\u001b[49m\n\u001b[1;32m   1833\u001b[0m \u001b[38;5;28;01mif\u001b[39;00m job_config \u001b[38;5;129;01mand\u001b[39;00m job_config\u001b[38;5;241m.\u001b[39mcode_search_path:\n\u001b[1;32m   1834\u001b[0m     global_worker\u001b[38;5;241m.\u001b[39mset_load_code_from_local(\u001b[38;5;28;01mTrue\u001b[39;00m)\n",
      "File \u001b[0;32m~/.local/lib/python3.11/site-packages/ray/_private/worker.py:2443\u001b[0m, in \u001b[0;36mconnect\u001b[0;34m(node, session_name, mode, log_to_driver, worker, driver_object_store_memory, job_id, namespace, job_config, runtime_env_hash, startup_token, ray_debugger_external, entrypoint, worker_launch_time_ms, worker_launched_time_ms)\u001b[0m\n\u001b[1;32m   2440\u001b[0m \u001b[38;5;28;01melse\u001b[39;00m:\n\u001b[1;32m   2441\u001b[0m     logs_dir \u001b[38;5;241m=\u001b[39m node\u001b[38;5;241m.\u001b[39mget_logs_dir_path()\n\u001b[0;32m-> 2443\u001b[0m worker\u001b[38;5;241m.\u001b[39mcore_worker \u001b[38;5;241m=\u001b[39m \u001b[43mray\u001b[49m\u001b[38;5;241;43m.\u001b[39;49m\u001b[43m_raylet\u001b[49m\u001b[38;5;241;43m.\u001b[39;49m\u001b[43mCoreWorker\u001b[49m\u001b[43m(\u001b[49m\n\u001b[1;32m   2444\u001b[0m \u001b[43m    \u001b[49m\u001b[43mmode\u001b[49m\u001b[43m,\u001b[49m\n\u001b[1;32m   2445\u001b[0m \u001b[43m    \u001b[49m\u001b[43mnode\u001b[49m\u001b[38;5;241;43m.\u001b[39;49m\u001b[43mplasma_store_socket_name\u001b[49m\u001b[43m,\u001b[49m\n\u001b[1;32m   2446\u001b[0m \u001b[43m    \u001b[49m\u001b[43mnode\u001b[49m\u001b[38;5;241;43m.\u001b[39;49m\u001b[43mraylet_socket_name\u001b[49m\u001b[43m,\u001b[49m\n\u001b[1;32m   2447\u001b[0m \u001b[43m    \u001b[49m\u001b[43mjob_id\u001b[49m\u001b[43m,\u001b[49m\n\u001b[1;32m   2448\u001b[0m \u001b[43m    \u001b[49m\u001b[43mgcs_options\u001b[49m\u001b[43m,\u001b[49m\n\u001b[1;32m   2449\u001b[0m \u001b[43m    \u001b[49m\u001b[43mlogs_dir\u001b[49m\u001b[43m,\u001b[49m\n\u001b[1;32m   2450\u001b[0m \u001b[43m    \u001b[49m\u001b[43mnode\u001b[49m\u001b[38;5;241;43m.\u001b[39;49m\u001b[43mnode_ip_address\u001b[49m\u001b[43m,\u001b[49m\n\u001b[1;32m   2451\u001b[0m \u001b[43m    \u001b[49m\u001b[43mnode\u001b[49m\u001b[38;5;241;43m.\u001b[39;49m\u001b[43mnode_manager_port\u001b[49m\u001b[43m,\u001b[49m\n\u001b[1;32m   2452\u001b[0m \u001b[43m    \u001b[49m\u001b[43mnode\u001b[49m\u001b[38;5;241;43m.\u001b[39;49m\u001b[43mraylet_ip_address\u001b[49m\u001b[43m,\u001b[49m\n\u001b[1;32m   2453\u001b[0m \u001b[43m    \u001b[49m\u001b[43m(\u001b[49m\u001b[43mmode\u001b[49m\u001b[43m \u001b[49m\u001b[38;5;241;43m==\u001b[39;49m\u001b[43m \u001b[49m\u001b[43mLOCAL_MODE\u001b[49m\u001b[43m)\u001b[49m\u001b[43m,\u001b[49m\n\u001b[1;32m   2454\u001b[0m \u001b[43m    \u001b[49m\u001b[43mdriver_name\u001b[49m\u001b[43m,\u001b[49m\n\u001b[1;32m   2455\u001b[0m \u001b[43m    \u001b[49m\u001b[43mlog_stdout_file_path\u001b[49m\u001b[43m,\u001b[49m\n\u001b[1;32m   2456\u001b[0m \u001b[43m    \u001b[49m\u001b[43mlog_stderr_file_path\u001b[49m\u001b[43m,\u001b[49m\n\u001b[1;32m   2457\u001b[0m \u001b[43m    \u001b[49m\u001b[43mserialized_job_config\u001b[49m\u001b[43m,\u001b[49m\n\u001b[1;32m   2458\u001b[0m \u001b[43m    \u001b[49m\u001b[43mnode\u001b[49m\u001b[38;5;241;43m.\u001b[39;49m\u001b[43mmetrics_agent_port\u001b[49m\u001b[43m,\u001b[49m\n\u001b[1;32m   2459\u001b[0m \u001b[43m    \u001b[49m\u001b[43mruntime_env_hash\u001b[49m\u001b[43m,\u001b[49m\n\u001b[1;32m   2460\u001b[0m \u001b[43m    \u001b[49m\u001b[43mstartup_token\u001b[49m\u001b[43m,\u001b[49m\n\u001b[1;32m   2461\u001b[0m \u001b[43m    \u001b[49m\u001b[43msession_name\u001b[49m\u001b[43m,\u001b[49m\n\u001b[1;32m   2462\u001b[0m \u001b[43m    \u001b[49m\u001b[43mnode\u001b[49m\u001b[38;5;241;43m.\u001b[39;49m\u001b[43mcluster_id\u001b[49m\u001b[38;5;241;43m.\u001b[39;49m\u001b[43mhex\u001b[49m\u001b[43m(\u001b[49m\u001b[43m)\u001b[49m\u001b[43m,\u001b[49m\n\u001b[1;32m   2463\u001b[0m \u001b[43m    \u001b[49m\u001b[38;5;124;43m\"\u001b[39;49m\u001b[38;5;124;43m\"\u001b[39;49m\u001b[43m \u001b[49m\u001b[38;5;28;43;01mif\u001b[39;49;00m\u001b[43m \u001b[49m\u001b[43mmode\u001b[49m\u001b[43m \u001b[49m\u001b[38;5;241;43m!=\u001b[39;49m\u001b[43m \u001b[49m\u001b[43mSCRIPT_MODE\u001b[49m\u001b[43m \u001b[49m\u001b[38;5;28;43;01melse\u001b[39;49;00m\u001b[43m \u001b[49m\u001b[43mentrypoint\u001b[49m\u001b[43m,\u001b[49m\n\u001b[1;32m   2464\u001b[0m \u001b[43m    \u001b[49m\u001b[43mworker_launch_time_ms\u001b[49m\u001b[43m,\u001b[49m\n\u001b[1;32m   2465\u001b[0m \u001b[43m    \u001b[49m\u001b[43mworker_launched_time_ms\u001b[49m\u001b[43m,\u001b[49m\n\u001b[1;32m   2466\u001b[0m \u001b[43m\u001b[49m\u001b[43m)\u001b[49m\n\u001b[1;32m   2468\u001b[0m \u001b[38;5;66;03m# Notify raylet that the core worker is ready.\u001b[39;00m\n\u001b[1;32m   2469\u001b[0m worker\u001b[38;5;241m.\u001b[39mcore_worker\u001b[38;5;241m.\u001b[39mnotify_raylet()\n",
      "\u001b[0;31mKeyboardInterrupt\u001b[0m: "
     ]
    }
   ],
   "source": [
    "# A few minutes if the traced repo is in the cache; many hours otherwise.\n",
    "traced_repo = trace(repo)"
   ]
  },
  {
   "cell_type": "code",
   "execution_count": 7,
   "id": "25ccf173",
   "metadata": {},
   "outputs": [
    {
     "ename": "NameError",
     "evalue": "name 'traced_repo' is not defined",
     "output_type": "error",
     "traceback": [
      "\u001b[0;31m---------------------------------------------------------------------------\u001b[0m",
      "\u001b[0;31mNameError\u001b[0m                                 Traceback (most recent call last)",
      "Cell \u001b[0;32mIn[7], line 1\u001b[0m\n\u001b[0;32m----> 1\u001b[0m \u001b[43mtraced_repo\u001b[49m\u001b[38;5;241m.\u001b[39mtraced_files_graph\n",
      "\u001b[0;31mNameError\u001b[0m: name 'traced_repo' is not defined"
     ]
    }
   ],
   "source": [
    "traced_repo.traced_files_graph"
   ]
  },
  {
   "cell_type": "code",
   "execution_count": 9,
   "id": "375023d4",
   "metadata": {},
   "outputs": [
    {
     "data": {
      "text/plain": [
       "5674"
      ]
     },
     "execution_count": 9,
     "metadata": {},
     "output_type": "execute_result"
    }
   ],
   "source": [
    "len(traced_repo.traced_files)"
   ]
  },
  {
   "cell_type": "code",
   "execution_count": 10,
   "id": "1c725a11",
   "metadata": {},
   "outputs": [
    {
     "data": {
      "text/plain": [
       "TracedFile(root_dir=PosixPath('/private/home/kaiyuy/.cache/lean_dojo/leanprover-community-mathlib4-29dcec074de168ac2bf835a77ef68bbe069194c5/mathlib4'), repo=LeanGitRepo(url='https://github.com/leanprover-community/mathlib4', commit='29dcec074de168ac2bf835a77ef68bbe069194c5'), lean_file=LeanFile(path=PosixPath('Mathlib/Algebra/BigOperators/Pi.lean')))"
      ]
     },
     "execution_count": 10,
     "metadata": {},
     "output_type": "execute_result"
    }
   ],
   "source": [
    "traced_file = traced_repo.get_traced_file(\"Mathlib/Algebra/BigOperators/Pi.lean\")\n",
    "\n",
    "traced_file"
   ]
  },
  {
   "cell_type": "code",
   "execution_count": 11,
   "id": "153f37ce",
   "metadata": {},
   "outputs": [
    {
     "data": {
      "text/plain": [
       "[{'full_name': 'Pi.list_prod_apply',\n",
       "  'code': '@[to_additive]\\ntheorem list_prod_apply {α : Type*} {β : α → Type*} [∀ a, Monoid (β a)] (a : α)\\n    (l : List (∀ a, β a)) : l.prod a = (l.map fun f : ∀ a, β a ↦ f a).prod',\n",
       "  'start': [22, 1],\n",
       "  'end': [25, 38],\n",
       "  'kind': 'commanddeclaration'},\n",
       " {'full_name': 'Pi.multiset_prod_apply',\n",
       "  'code': '@[to_additive]\\ntheorem multiset_prod_apply {α : Type*} {β : α → Type*} [∀ a, CommMonoid (β a)] (a : α)\\n    (s : Multiset (∀ a, β a)) : s.prod a = (s.map fun f : ∀ a, β a ↦ f a).prod',\n",
       "  'start': [29, 1],\n",
       "  'end': [32, 42],\n",
       "  'kind': 'commanddeclaration'},\n",
       " {'full_name': 'Finset.prod_apply',\n",
       "  'code': '@[to_additive (attr := simp)]\\ntheorem Finset.prod_apply {α : Type*} {β : α → Type*} {γ} [∀ a, CommMonoid (β a)] (a : α)\\n    (s : Finset γ) (g : γ → ∀ a, β a) : (∏ c ∈ s, g c) a = ∏ c ∈ s, g c a',\n",
       "  'start': [38, 1],\n",
       "  'end': [41, 38],\n",
       "  'kind': 'commanddeclaration'},\n",
       " {'full_name': 'Finset.prod_fn',\n",
       "  'code': '@[to_additive \"An \\'unapplied\\' analogue of `Finset.sum_apply`.\"]\\ntheorem Finset.prod_fn {α : Type*} {β : α → Type*} {γ} [∀ a, CommMonoid (β a)] (s : Finset γ)\\n    (g : γ → ∀ a, β a) : ∏ c ∈ s, g c = fun a ↦ ∏ c ∈ s, g c a',\n",
       "  'start': [45, 1],\n",
       "  'end': [49, 41],\n",
       "  'kind': 'commanddeclaration'},\n",
       " {'full_name': 'Fintype.prod_apply',\n",
       "  'code': '@[to_additive]\\ntheorem Fintype.prod_apply {α : Type*} {β : α → Type*} {γ : Type*} [Fintype γ]\\n    [∀ a, CommMonoid (β a)] (a : α) (g : γ → ∀ a, β a) : (∏ c, g c) a = ∏ c, g c a',\n",
       "  'start': [53, 1],\n",
       "  'end': [56, 36],\n",
       "  'kind': 'commanddeclaration'},\n",
       " {'full_name': 'prod_mk_prod',\n",
       "  'code': '@[to_additive prod_mk_sum]\\ntheorem prod_mk_prod {α β γ : Type*} [CommMonoid α] [CommMonoid β] (s : Finset γ) (f : γ → α)\\n    (g : γ → β) : (∏ x ∈ s, f x, ∏ x ∈ s, g x) = ∏ x ∈ s, (f x, g x)',\n",
       "  'start': [60, 1],\n",
       "  'end': [64, 88],\n",
       "  'kind': 'commanddeclaration'},\n",
       " {'full_name': 'pi_eq_sum_univ',\n",
       "  'code': 'theorem pi_eq_sum_univ {ι : Type*} [Fintype ι] [DecidableEq ι] {R : Type*} [Semiring R]\\n    (x : ι → R) : x = ∑ i, (x i) • fun j => if i = j then (1 : R) else 0',\n",
       "  'start': [68, 1],\n",
       "  'end': [72, 7],\n",
       "  'kind': 'commanddeclaration'},\n",
       " {'full_name': 'Finset.univ_prod_mulSingle',\n",
       "  'code': '@[to_additive]\\ntheorem Finset.univ_prod_mulSingle [Fintype I] (f : ∀ i, Z i) :\\n    (∏ i, Pi.mulSingle i (f i)) = f',\n",
       "  'start': [80, 1],\n",
       "  'end': [84, 7],\n",
       "  'kind': 'commanddeclaration'},\n",
       " {'full_name': 'MonoidHom.functions_ext',\n",
       "  'code': '@[to_additive]\\ntheorem MonoidHom.functions_ext [Finite I] (G : Type*) [CommMonoid G] (g h : (∀ i, Z i) →* G)\\n    (H : ∀ i x, g (Pi.mulSingle i x) = h (Pi.mulSingle i x)) : g = h',\n",
       "  'start': [88, 1],\n",
       "  'end': [94, 16],\n",
       "  'kind': 'commanddeclaration'},\n",
       " {'full_name': \"MonoidHom.functions_ext'\",\n",
       "  'code': '@[to_additive (attr := ext)\\n      \"\\\\nThis is used as the ext lemma instead of `AddMonoidHom.functions_ext` for reasons\\n      explained in note [partially-applied ext lemmas].\"]\\ntheorem MonoidHom.functions_ext\\' [Finite I] (M : Type*) [CommMonoid M] (g h : (∀ i, Z i) →* M)\\n    (H : ∀ i, g.comp (MonoidHom.mulSingle Z i) = h.comp (MonoidHom.mulSingle Z i)) : g = h',\n",
       "  'start': [98, 1],\n",
       "  'end': [105, 56],\n",
       "  'kind': 'commanddeclaration'},\n",
       " {'full_name': 'RingHom.functions_ext',\n",
       "  'code': '@[ext]\\ntheorem RingHom.functions_ext [Finite I] (G : Type*) [NonAssocSemiring G] (g h : (∀ i, f i) →+* G)\\n    (H : ∀ (i : I) (x : f i), g (single i x) = h (single i x)) : g = h',\n",
       "  'start': [118, 1],\n",
       "  'end': [122, 72],\n",
       "  'kind': 'commanddeclaration'},\n",
       " {'full_name': 'Prod.fst_prod',\n",
       "  'code': '@[to_additive]\\ntheorem fst_prod : (∏ c ∈ s, f c).1 = ∏ c ∈ s, (f c).1',\n",
       "  'start': [131, 1],\n",
       "  'end': [133, 35],\n",
       "  'kind': 'commanddeclaration'},\n",
       " {'full_name': 'Prod.snd_prod',\n",
       "  'code': '@[to_additive]\\ntheorem snd_prod : (∏ c ∈ s, f c).2 = ∏ c ∈ s, (f c).2',\n",
       "  'start': [137, 1],\n",
       "  'end': [139, 35],\n",
       "  'kind': 'commanddeclaration'}]"
      ]
     },
     "execution_count": 11,
     "metadata": {},
     "output_type": "execute_result"
    }
   ],
   "source": [
    "traced_file.get_premise_definitions()"
   ]
  },
  {
   "cell_type": "code",
   "execution_count": 9,
   "id": "77e58935",
   "metadata": {},
   "outputs": [
    {
     "ename": "NameError",
     "evalue": "name 'traced_file' is not defined",
     "output_type": "error",
     "traceback": [
      "\u001b[0;31m---------------------------------------------------------------------------\u001b[0m",
      "\u001b[0;31mNameError\u001b[0m                                 Traceback (most recent call last)",
      "Cell \u001b[0;32mIn[9], line 1\u001b[0m\n\u001b[0;32m----> 1\u001b[0m traced_theorems \u001b[38;5;241m=\u001b[39m \u001b[43mtraced_file\u001b[49m\u001b[38;5;241m.\u001b[39mget_traced_theorems()\n\u001b[1;32m      3\u001b[0m \u001b[38;5;28mlen\u001b[39m(traced_theorems)\n",
      "\u001b[0;31mNameError\u001b[0m: name 'traced_file' is not defined"
     ]
    }
   ],
   "source": [
    "traced_theorems = traced_file.get_traced_theorems()\n",
    "\n",
    "len(traced_theorems)"
   ]
  },
  {
   "cell_type": "code",
   "execution_count": 13,
   "id": "00042165",
   "metadata": {},
   "outputs": [
    {
     "data": {
      "text/plain": [
       "TracedTheorem(theorem=Theorem(repo=LeanGitRepo(url='https://github.com/leanprover-community/mathlib4', commit='29dcec074de168ac2bf835a77ef68bbe069194c5'), file_path=PosixPath('Mathlib/Algebra/BigOperators/Pi.lean'), full_name='pi_eq_sum_univ'))"
      ]
     },
     "execution_count": 13,
     "metadata": {},
     "output_type": "execute_result"
    }
   ],
   "source": [
    "thm = traced_file.get_traced_theorem(\"pi_eq_sum_univ\")\n",
    "\n",
    "thm"
   ]
  },
  {
   "cell_type": "code",
   "execution_count": 14,
   "id": "4d9ed905",
   "metadata": {},
   "outputs": [],
   "source": [
    "# Expected behavior: this line should open another tab and take you to the website of the traced theorem.\n",
    "thm.show()"
   ]
  },
  {
   "cell_type": "code",
   "execution_count": 15,
   "id": "eafb6369",
   "metadata": {},
   "outputs": [
    {
     "data": {
      "text/plain": [
       "Theorem(repo=LeanGitRepo(url='https://github.com/leanprover-community/mathlib4', commit='29dcec074de168ac2bf835a77ef68bbe069194c5'), file_path=PosixPath('Mathlib/Algebra/BigOperators/Pi.lean'), full_name='pi_eq_sum_univ')"
      ]
     },
     "execution_count": 15,
     "metadata": {},
     "output_type": "execute_result"
    }
   ],
   "source": [
    "thm.theorem"
   ]
  },
  {
   "cell_type": "code",
   "execution_count": 16,
   "id": "5e00cba9",
   "metadata": {},
   "outputs": [
    {
     "data": {
      "text/plain": [
       "((69, 1), (72, 7))"
      ]
     },
     "execution_count": 16,
     "metadata": {},
     "output_type": "execute_result"
    }
   ],
   "source": [
    "thm.start, thm.end"
   ]
  },
  {
   "cell_type": "code",
   "execution_count": 17,
   "id": "14c611f4",
   "metadata": {},
   "outputs": [
    {
     "data": {
      "text/plain": [
       "True"
      ]
     },
     "execution_count": 17,
     "metadata": {},
     "output_type": "execute_result"
    }
   ],
   "source": [
    "thm.has_tactic_proof()"
   ]
  },
  {
   "cell_type": "code",
   "execution_count": 18,
   "id": "24bc67e9",
   "metadata": {},
   "outputs": [
    {
     "data": {
      "text/plain": [
       "2"
      ]
     },
     "execution_count": 18,
     "metadata": {},
     "output_type": "execute_result"
    }
   ],
   "source": [
    "thm.get_num_tactics()"
   ]
  },
  {
   "cell_type": "code",
   "execution_count": 19,
   "id": "3fa19ef3",
   "metadata": {},
   "outputs": [
    {
     "name": "stdout",
     "output_type": "stream",
     "text": [
      "by\n",
      "  ext\n",
      "  simp\n"
     ]
    }
   ],
   "source": [
    "proof_node = thm.get_proof_node()\n",
    "proof = proof_node.lean_file[proof_node.start : proof_node.end]\n",
    "print(proof)"
   ]
  },
  {
   "cell_type": "code",
   "execution_count": 20,
   "id": "1fae1876",
   "metadata": {},
   "outputs": [
    {
     "data": {
      "text/plain": [
       "[TracedTactic(tactic=ext, state_before=ι : Type u_1\n",
       " inst✝² : Fintype ι\n",
       " inst✝¹ : DecidableEq ι\n",
       " R : Type u_2\n",
       " inst✝ : Semiring R\n",
       " x : ι → R\n",
       " ⊢ x = ∑ i : ι, x i • fun j => if i = j then 1 else 0, state_after=case h\n",
       " ι : Type u_1\n",
       " inst✝² : Fintype ι\n",
       " inst✝¹ : DecidableEq ι\n",
       " R : Type u_2\n",
       " inst✝ : Semiring R\n",
       " x : ι → R\n",
       " x✝ : ι\n",
       " ⊢ x x✝ = (∑ i : ι, x i • fun j => if i = j then 1 else 0) x✝),\n",
       " TracedTactic(tactic=simp, state_before=case h\n",
       " ι : Type u_1\n",
       " inst✝² : Fintype ι\n",
       " inst✝¹ : DecidableEq ι\n",
       " R : Type u_2\n",
       " inst✝ : Semiring R\n",
       " x : ι → R\n",
       " x✝ : ι\n",
       " ⊢ x x✝ = (∑ i : ι, x i • fun j => if i = j then 1 else 0) x✝, state_after=no goals)]"
      ]
     },
     "execution_count": 20,
     "metadata": {},
     "output_type": "execute_result"
    }
   ],
   "source": [
    "traced_tactics = thm.get_traced_tactics()\n",
    "\n",
    "traced_tactics"
   ]
  },
  {
   "cell_type": "code",
   "execution_count": 21,
   "id": "39fbe993",
   "metadata": {},
   "outputs": [
    {
     "data": {
      "text/plain": [
       "TracedTactic(tactic=simp, state_before=case h\n",
       "ι : Type u_1\n",
       "inst✝² : Fintype ι\n",
       "inst✝¹ : DecidableEq ι\n",
       "R : Type u_2\n",
       "inst✝ : Semiring R\n",
       "x : ι → R\n",
       "x✝ : ι\n",
       "⊢ x x✝ = (∑ i : ι, x i • fun j => if i = j then 1 else 0) x✝, state_after=no goals)"
      ]
     },
     "execution_count": 21,
     "metadata": {},
     "output_type": "execute_result"
    }
   ],
   "source": [
    "tac = traced_tactics[1]\n",
    "\n",
    "tac"
   ]
  },
  {
   "cell_type": "markdown",
   "id": "84b1c8b6",
   "metadata": {},
   "source": [
    "## Interact with Lean Programmatically"
   ]
  },
  {
   "cell_type": "code",
   "execution_count": 4,
   "id": "f3d3f736",
   "metadata": {},
   "outputs": [
    {
     "data": {
      "text/plain": [
       "LeanGitRepo(url='https://github.com/leanprover-community/mathlib4', commit='29dcec074de168ac2bf835a77ef68bbe069194c5')"
      ]
     },
     "execution_count": 4,
     "metadata": {},
     "output_type": "execute_result"
    }
   ],
   "source": [
    "repo"
   ]
  },
  {
   "cell_type": "markdown",
   "id": "fb39a5a0",
   "metadata": {},
   "source": [
    "### Interact through Tactics"
   ]
  },
  {
   "cell_type": "code",
   "execution_count": 4,
   "id": "10364e0f",
   "metadata": {},
   "outputs": [],
   "source": [
    "theorem = Theorem(repo, \"Mathlib/Algebra/BigOperators/Pi.lean\", \"pi_eq_sum_univ\")\n",
    "\n",
    "# For some theorems, it might take a few minutes.\n",
    "dojo, state_0 = Dojo(theorem).__enter__()"
   ]
  },
  {
   "cell_type": "code",
   "execution_count": 5,
   "id": "a7d4ad9a",
   "metadata": {},
   "outputs": [
    {
     "data": {
      "text/plain": [
       "TacticState(pp='ι : Type u_1\\ninst✝² : Fintype ι\\ninst✝¹ : DecidableEq ι\\nR : Type u_2\\ninst✝ : Semiring R\\nx : ι → R\\n⊢ x = ∑ i : ι, x i • fun j => if i = j then 1 else 0', id=0, message=None)"
      ]
     },
     "execution_count": 5,
     "metadata": {},
     "output_type": "execute_result"
    }
   ],
   "source": [
    "state_0"
   ]
  },
  {
   "cell_type": "code",
   "execution_count": 6,
   "id": "af88893b",
   "metadata": {},
   "outputs": [
    {
     "name": "stdout",
     "output_type": "stream",
     "text": [
      "ι : Type u_1\n",
      "inst✝² : Fintype ι\n",
      "inst✝¹ : DecidableEq ι\n",
      "R : Type u_2\n",
      "inst✝ : Semiring R\n",
      "x : ι → R\n",
      "⊢ x = ∑ i : ι, x i • fun j => if i = j then 1 else 0\n"
     ]
    }
   ],
   "source": [
    "print(state_0.pp)"
   ]
  },
  {
   "cell_type": "code",
   "execution_count": 7,
   "id": "4ca2dca9",
   "metadata": {},
   "outputs": [
    {
     "name": "stdout",
     "output_type": "stream",
     "text": [
      "ι : Type u_1\n",
      "inst✝² : Fintype ι\n",
      "inst✝¹ : DecidableEq ι\n",
      "R : Type u_2\n",
      "inst✝ : Semiring R\n",
      "⊢ ∀ (x : ι → R), x = ∑ i : ι, x i • fun j => if i = j then 1 else 0\n"
     ]
    }
   ],
   "source": [
    "state_1 = dojo.run_tac(state_0, \"revert x\")\n",
    "\n",
    "print(state_1.pp)"
   ]
  },
  {
   "cell_type": "code",
   "execution_count": 8,
   "id": "89a62c89",
   "metadata": {},
   "outputs": [
    {
     "data": {
      "text/plain": [
       "LeanError(error='<stdin>:1:1: unknown tactic')"
      ]
     },
     "execution_count": 8,
     "metadata": {},
     "output_type": "execute_result"
    }
   ],
   "source": [
    "state_2 = dojo.run_tac(state_0, \"hello world!\")\n",
    "\n",
    "state_2"
   ]
  },
  {
   "cell_type": "code",
   "execution_count": 9,
   "id": "10b5f013",
   "metadata": {},
   "outputs": [
    {
     "ename": "RuntimeError",
     "evalue": "Attempting to run a tactic on an invalid state LeanError(error='<stdin>:1:1: unknown tactic').",
     "output_type": "error",
     "traceback": [
      "\u001b[0;31m---------------------------------------------------------------------------\u001b[0m",
      "\u001b[0;31mRuntimeError\u001b[0m                              Traceback (most recent call last)",
      "Cell \u001b[0;32mIn[9], line 1\u001b[0m\n\u001b[0;32m----> 1\u001b[0m \u001b[43mdojo\u001b[49m\u001b[38;5;241;43m.\u001b[39;49m\u001b[43mrun_tac\u001b[49m\u001b[43m(\u001b[49m\u001b[43mstate_2\u001b[49m\u001b[43m,\u001b[49m\u001b[43m \u001b[49m\u001b[38;5;124;43m\"\u001b[39;49m\u001b[38;5;124;43mskip\u001b[39;49m\u001b[38;5;124;43m\"\u001b[39;49m\u001b[43m)\u001b[49m\n",
      "File \u001b[0;32m~/.local/lib/python3.11/site-packages/lean_dojo/interaction/dojo.py:319\u001b[0m, in \u001b[0;36mDojo.run_tac\u001b[0;34m(self, state, tactic)\u001b[0m\n\u001b[1;32m    317\u001b[0m \u001b[38;5;28;01mdef\u001b[39;00m \u001b[38;5;21mrun_tac\u001b[39m(\u001b[38;5;28mself\u001b[39m, state: TacticState, tactic: \u001b[38;5;28mstr\u001b[39m) \u001b[38;5;241m-\u001b[39m\u001b[38;5;241m>\u001b[39m TacticResult:\n\u001b[1;32m    318\u001b[0m     \u001b[38;5;28;01mif\u001b[39;00m \u001b[38;5;129;01mnot\u001b[39;00m \u001b[38;5;28misinstance\u001b[39m(state, TacticState):\n\u001b[0;32m--> 319\u001b[0m         \u001b[38;5;28;01mraise\u001b[39;00m \u001b[38;5;167;01mRuntimeError\u001b[39;00m(\n\u001b[1;32m    320\u001b[0m             \u001b[38;5;124mf\u001b[39m\u001b[38;5;124m\"\u001b[39m\u001b[38;5;124mAttempting to run a tactic on an invalid state \u001b[39m\u001b[38;5;132;01m{\u001b[39;00mstate\u001b[38;5;132;01m}\u001b[39;00m\u001b[38;5;124m.\u001b[39m\u001b[38;5;124m\"\u001b[39m\n\u001b[1;32m    321\u001b[0m         )\n\u001b[1;32m    322\u001b[0m     \u001b[38;5;28;01massert\u001b[39;00m \u001b[38;5;28misinstance\u001b[39m(tactic, \u001b[38;5;28mstr\u001b[39m), \u001b[38;5;124mf\u001b[39m\u001b[38;5;124m\"\u001b[39m\u001b[38;5;124mInvalid tactic \u001b[39m\u001b[38;5;132;01m{\u001b[39;00mtactic\u001b[38;5;132;01m}\u001b[39;00m\u001b[38;5;124m\"\u001b[39m\n\u001b[1;32m    324\u001b[0m     tsid \u001b[38;5;241m=\u001b[39m state\u001b[38;5;241m.\u001b[39mid\n",
      "\u001b[0;31mRuntimeError\u001b[0m: Attempting to run a tactic on an invalid state LeanError(error='<stdin>:1:1: unknown tactic')."
     ]
    }
   ],
   "source": [
    "dojo.run_tac(state_2, \"skip\")"
   ]
  },
  {
   "cell_type": "code",
   "execution_count": 10,
   "id": "65bae6ea",
   "metadata": {},
   "outputs": [
    {
     "data": {
      "text/plain": [
       "ProofGivenUp()"
      ]
     },
     "execution_count": 10,
     "metadata": {},
     "output_type": "execute_result"
    }
   ],
   "source": [
    "dojo.run_tac(state_0, \"sorry\")"
   ]
  },
  {
   "cell_type": "code",
   "execution_count": 14,
   "id": "c373865a",
   "metadata": {},
   "outputs": [
    {
     "name": "stdout",
     "output_type": "stream",
     "text": [
      "ι : Type u_1\n",
      "inst✝² : Fintype ι\n",
      "inst✝¹ : DecidableEq ι\n",
      "R : Type u_2\n",
      "inst✝ : Semiring R\n",
      "x : ι → R\n",
      "⊢ x = ∑ i : ι, x i • fun j => if i = j then 1 else 0\n"
     ]
    }
   ],
   "source": [
    "print(state_0.pp)"
   ]
  },
  {
   "cell_type": "code",
   "execution_count": 15,
   "id": "a5d0156f",
   "metadata": {},
   "outputs": [
    {
     "name": "stdout",
     "output_type": "stream",
     "text": [
      "case h\n",
      "ι : Type u_1\n",
      "inst✝² : Fintype ι\n",
      "inst✝¹ : DecidableEq ι\n",
      "R : Type u_2\n",
      "inst✝ : Semiring R\n",
      "x : ι → R\n",
      "x✝ : ι\n",
      "⊢ x x✝ = (∑ i : ι, x i • fun j => if i = j then 1 else 0) x✝\n"
     ]
    }
   ],
   "source": [
    "state_3 = dojo.run_tac(state_0, \"ext\")\n",
    "\n",
    "print(state_3.pp)"
   ]
  },
  {
   "cell_type": "code",
   "execution_count": 16,
   "id": "71ab5854",
   "metadata": {},
   "outputs": [
    {
     "name": "stdout",
     "output_type": "stream",
     "text": [
      "ProofFinished(tactic_state_id=4, message='')\n"
     ]
    }
   ],
   "source": [
    "state_4 = dojo.run_tac(state_3, \"simp\")\n",
    "\n",
    "print(state_4)"
   ]
  },
  {
   "cell_type": "code",
   "execution_count": 17,
   "id": "fdb44496",
   "metadata": {},
   "outputs": [
    {
     "data": {
      "text/plain": [
       "True"
      ]
     },
     "execution_count": 17,
     "metadata": {},
     "output_type": "execute_result"
    }
   ],
   "source": [
    "dojo.is_successful"
   ]
  },
  {
   "cell_type": "markdown",
   "id": "0ca87e34",
   "metadata": {},
   "source": [
    "### Interact through Commands"
   ]
  },
  {
   "cell_type": "code",
   "execution_count": 24,
   "id": "243ea43c",
   "metadata": {},
   "outputs": [],
   "source": [
    "entry = (repo, \"Mathlib/Algebra/Module/Equiv.lean\", 953)  # (repo, file_path, line_nb)\n",
    "dojo, state_0 = Dojo(entry).__enter__()"
   ]
  },
  {
   "cell_type": "code",
   "execution_count": 27,
   "id": "5ebd615c",
   "metadata": {},
   "outputs": [
    {
     "data": {
      "text/plain": [
       "CommandState(id=0, message=None)"
      ]
     },
     "execution_count": 27,
     "metadata": {},
     "output_type": "execute_result"
    }
   ],
   "source": [
    "state_0"
   ]
  },
  {
   "cell_type": "code",
   "execution_count": 28,
   "id": "b1e079fa",
   "metadata": {},
   "outputs": [
    {
     "data": {
      "text/plain": [
       "CommandState(id=1, message='1')"
      ]
     },
     "execution_count": 28,
     "metadata": {},
     "output_type": "execute_result"
    }
   ],
   "source": [
    "dojo.run_cmd(state_0, \"#eval 1\")"
   ]
  },
  {
   "cell_type": "code",
   "execution_count": 29,
   "id": "31c9bada",
   "metadata": {},
   "outputs": [
    {
     "data": {
      "text/plain": [
       "LeanError(error=\"unknown identifier 'x'\")"
      ]
     },
     "execution_count": 29,
     "metadata": {},
     "output_type": "execute_result"
    }
   ],
   "source": [
    "dojo.run_cmd(state_0, \"#eval x\")"
   ]
  },
  {
   "cell_type": "code",
   "execution_count": 30,
   "id": "b638bfbf",
   "metadata": {},
   "outputs": [
    {
     "data": {
      "text/plain": [
       "CommandState(id=3, message='')"
      ]
     },
     "execution_count": 30,
     "metadata": {},
     "output_type": "execute_result"
    }
   ],
   "source": [
    "state_1 = dojo.run_cmd(state_0, \"def x := 1\")\n",
    "\n",
    "state_1"
   ]
  },
  {
   "cell_type": "code",
   "execution_count": 31,
   "id": "bdc4f14d",
   "metadata": {},
   "outputs": [
    {
     "data": {
      "text/plain": [
       "CommandState(id=4, message='1')"
      ]
     },
     "execution_count": 31,
     "metadata": {},
     "output_type": "execute_result"
    }
   ],
   "source": [
    "dojo.run_cmd(state_1, \"#eval x\")"
   ]
  },
  {
   "cell_type": "code",
   "execution_count": 32,
   "id": "ef47afb8",
   "metadata": {},
   "outputs": [
    {
     "data": {
      "text/plain": [
       "CommandState(id=5, message='addMonoidHomLequivNat.{u_17, u_18, u_19} {A : Type u_17} {B : Type u_18} (R : Type u_19) [Semiring R] [AddCommMonoid A]\\n[AddCommMonoid B] [Module R B] : (A →+ B) ≃ₗ[R] A →ₗ[ℕ] B')"
      ]
     },
     "execution_count": 32,
     "metadata": {},
     "output_type": "execute_result"
    }
   ],
   "source": [
    "dojo.run_cmd(state_0, \"#check addMonoidHomLequivNat\")"
   ]
  },
  {
   "cell_type": "code",
   "execution_count": 33,
   "id": "c6b8b9a5",
   "metadata": {},
   "outputs": [
    {
     "data": {
      "text/plain": [
       "LeanError(error=\"unknown identifier 'addMonoidEndRingEquivInt'\")"
      ]
     },
     "execution_count": 33,
     "metadata": {},
     "output_type": "execute_result"
    }
   ],
   "source": [
    "dojo.run_cmd(state_0, \"#check addMonoidEndRingEquivInt\")"
   ]
  },
  {
   "cell_type": "code",
   "execution_count": null,
   "id": "791875ec",
   "metadata": {},
   "outputs": [],
   "source": []
  }
 ],
 "metadata": {
  "kernelspec": {
   "display_name": "Python 3",
   "language": "python",
   "name": "python3"
  },
  "language_info": {
   "codemirror_mode": {
    "name": "ipython",
    "version": 3
   },
   "file_extension": ".py",
   "mimetype": "text/x-python",
   "name": "python",
   "nbconvert_exporter": "python",
   "pygments_lexer": "ipython3",
   "version": "3.11.10"
  }
 },
 "nbformat": 4,
 "nbformat_minor": 5
}
